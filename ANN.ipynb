{
  "nbformat": 4,
  "nbformat_minor": 0,
  "metadata": {
    "colab": {
      "provenance": []
    },
    "kernelspec": {
      "name": "python3",
      "display_name": "Python 3"
    },
    "language_info": {
      "name": "python"
    }
  },
  "cells": [
    {
      "cell_type": "code",
      "execution_count": null,
      "metadata": {
        "id": "q4HOE5dygADZ"
      },
      "outputs": [],
      "source": [
        "import numpy as np"
      ]
    },
    {
      "cell_type": "code",
      "source": [
        "x = np.array([\n",
        "    [1,0,1,0],\n",
        "    [1,0,1,1],\n",
        "    [0,1,0,1]\n",
        "])\n",
        "\n",
        "y = np.array([[1],[1],[0]])\n",
        "\n",
        "# 1,0,1,0 --> 1\n",
        "# 1,0,1,1 --> 1\n",
        "# 0,1,0,1 --> 0\n",
        "# x --> features, y--> target"
      ],
      "metadata": {
        "id": "vmuFlHtPh-he"
      },
      "execution_count": null,
      "outputs": []
    },
    {
      "cell_type": "code",
      "source": [
        "x.shape"
      ],
      "metadata": {
        "colab": {
          "base_uri": "https://localhost:8080/"
        },
        "id": "dfgadJ3_irnM",
        "outputId": "ae85d844-1ba7-4ff9-ab67-a9e7a9997dc8"
      },
      "execution_count": null,
      "outputs": [
        {
          "output_type": "execute_result",
          "data": {
            "text/plain": [
              "(3, 4)"
            ]
          },
          "metadata": {},
          "execution_count": 51
        }
      ]
    },
    {
      "cell_type": "code",
      "source": [
        "#setting number of neurons\n",
        "inputNeurons = x.shape[1]\n",
        "hiddenNeurons = 4\n",
        "outputNeurons = 1\n",
        "alpha = 0.01"
      ],
      "metadata": {
        "id": "wC4udbnziMQa"
      },
      "execution_count": null,
      "outputs": []
    },
    {
      "cell_type": "code",
      "source": [
        "#initializing weights for hidden layer\n",
        "weightsHidden = np.random.uniform(size = (inputNeurons, hiddenNeurons)) # 4 x 4\n",
        "biasHidden = np.random.uniform(size = (1, hiddenNeurons)) # 1 x 4\n",
        "\n",
        "weightsOutput = np.random.uniform(size=(hiddenNeurons, outputNeurons)) # 4 x 1\n",
        "biasOutput = np.random.uniform(size = (1,outputNeurons)) # 1 x 1"
      ],
      "metadata": {
        "id": "TJxNG3_Ri4Pp"
      },
      "execution_count": null,
      "outputs": []
    },
    {
      "cell_type": "code",
      "source": [
        "biasHidden"
      ],
      "metadata": {
        "colab": {
          "base_uri": "https://localhost:8080/"
        },
        "id": "lm4cKp0wXZKX",
        "outputId": "0fc51ff2-623f-40b1-935f-d1c676b57f2e"
      },
      "execution_count": null,
      "outputs": [
        {
          "output_type": "execute_result",
          "data": {
            "text/plain": [
              "array([[0.79350932, 0.67489633, 0.72925127, 0.85895178]])"
            ]
          },
          "metadata": {},
          "execution_count": 54
        }
      ]
    },
    {
      "cell_type": "code",
      "source": [
        "def sigmoid(x):\n",
        "  return 1/(1+ np.exp(-x))\n",
        "\n",
        "def derivativeSigmoid(x):\n",
        "  return x*(1-x)"
      ],
      "metadata": {
        "id": "0QDtQSZBkWMM"
      },
      "execution_count": null,
      "outputs": []
    },
    {
      "cell_type": "code",
      "source": [
        "#Feedforward\n",
        "\n",
        "#Step 1: apply linear equation\n",
        "fx1 = np.dot(x, weightsHidden) + biasHidden\n",
        "\n",
        "#Step 2: apply activation for non-linearity\n",
        "z = sigmoid(fx1)\n",
        "\n",
        "#Step 3: apply linear equation on output of hidden layer\n",
        "fx2 = np.dot(z, weightsOutput) + biasOutput\n",
        "\n",
        "#Step 4: apply activation on output layer\n",
        "output = sigmoid(fx2)\n"
      ],
      "metadata": {
        "id": "wJsXQ62Jkn8t"
      },
      "execution_count": null,
      "outputs": []
    },
    {
      "cell_type": "code",
      "source": [
        "fx1"
      ],
      "metadata": {
        "id": "ewbX5EZVlyAw",
        "outputId": "11eb2fda-7a3e-4d2d-a5df-4701b0927789",
        "colab": {
          "base_uri": "https://localhost:8080/"
        }
      },
      "execution_count": null,
      "outputs": [
        {
          "output_type": "execute_result",
          "data": {
            "text/plain": [
              "array([[1.61953089, 1.63122359, 2.20395245, 2.53151668],\n",
              "       [2.15662053, 2.2517624 , 2.93375381, 2.81140119],\n",
              "       [2.08999998, 1.95340202, 2.09037843, 1.58536942]])"
            ]
          },
          "metadata": {},
          "execution_count": 57
        }
      ]
    },
    {
      "cell_type": "code",
      "source": [
        "z"
      ],
      "metadata": {
        "id": "MxMfkjfol0H-",
        "outputId": "c032708a-cf26-43e4-bc8e-6959daeabf07",
        "colab": {
          "base_uri": "https://localhost:8080/"
        }
      },
      "execution_count": null,
      "outputs": [
        {
          "output_type": "execute_result",
          "data": {
            "text/plain": [
              "array([[0.83473042, 0.83633719, 0.90060388, 0.92632193],\n",
              "       [0.89628582, 0.90480245, 0.94949001, 0.94328882],\n",
              "       [0.88992742, 0.87581712, 0.88996449, 0.82996362]])"
            ]
          },
          "metadata": {},
          "execution_count": 58
        }
      ]
    },
    {
      "cell_type": "code",
      "source": [
        "output"
      ],
      "metadata": {
        "colab": {
          "base_uri": "https://localhost:8080/"
        },
        "id": "XCumV1mklW-e",
        "outputId": "81a3719f-c799-4bfa-be0a-98362f82c613"
      },
      "execution_count": null,
      "outputs": [
        {
          "output_type": "execute_result",
          "data": {
            "text/plain": [
              "array([[0.92433157],\n",
              "       [0.93244848],\n",
              "       [0.92269793]])"
            ]
          },
          "metadata": {},
          "execution_count": 59
        }
      ]
    },
    {
      "cell_type": "code",
      "source": [
        "y"
      ],
      "metadata": {
        "colab": {
          "base_uri": "https://localhost:8080/"
        },
        "id": "Y59Ux2GdlamK",
        "outputId": "c4355dc9-2162-4340-d90a-73c736a50de4"
      },
      "execution_count": null,
      "outputs": [
        {
          "output_type": "execute_result",
          "data": {
            "text/plain": [
              "array([[1],\n",
              "       [1],\n",
              "       [0]])"
            ]
          },
          "metadata": {},
          "execution_count": 60
        }
      ]
    },
    {
      "cell_type": "code",
      "source": [
        "outputLoss = output - y\n",
        "outputLoss"
      ],
      "metadata": {
        "colab": {
          "base_uri": "https://localhost:8080/"
        },
        "id": "1AYJ6iqZbBu1",
        "outputId": "30b851fb-a471-487a-cd3d-bcd2ebc3cbb8"
      },
      "execution_count": null,
      "outputs": [
        {
          "output_type": "execute_result",
          "data": {
            "text/plain": [
              "array([[-0.07566843],\n",
              "       [-0.06755152],\n",
              "       [ 0.92269793]])"
            ]
          },
          "metadata": {},
          "execution_count": 61
        }
      ]
    },
    {
      "cell_type": "code",
      "source": [
        "outputSlope = derivativeSigmoid(output)"
      ],
      "metadata": {
        "id": "OsJZKen3pLH-"
      },
      "execution_count": null,
      "outputs": []
    },
    {
      "cell_type": "code",
      "source": [
        "output"
      ],
      "metadata": {
        "colab": {
          "base_uri": "https://localhost:8080/"
        },
        "id": "MENzggSyppSr",
        "outputId": "be72228f-5fb1-4397-86cf-b51ce1f74e3c"
      },
      "execution_count": null,
      "outputs": [
        {
          "output_type": "execute_result",
          "data": {
            "text/plain": [
              "array([[0.92433157],\n",
              "       [0.93244848],\n",
              "       [0.92269793]])"
            ]
          },
          "metadata": {},
          "execution_count": 63
        }
      ]
    },
    {
      "cell_type": "code",
      "source": [
        "outputSlope"
      ],
      "metadata": {
        "colab": {
          "base_uri": "https://localhost:8080/"
        },
        "id": "uDBn9WEPppwf",
        "outputId": "94a55625-c3e1-4a70-be5a-f28c743d3e1f"
      },
      "execution_count": null,
      "outputs": [
        {
          "output_type": "execute_result",
          "data": {
            "text/plain": [
              "array([[0.06994272],\n",
              "       [0.06298831],\n",
              "       [0.07132646]])"
            ]
          },
          "metadata": {},
          "execution_count": 64
        }
      ]
    },
    {
      "cell_type": "code",
      "source": [
        "outputDelta = outputLoss * outputSlope"
      ],
      "metadata": {
        "id": "A2OvysEqpqeO"
      },
      "execution_count": null,
      "outputs": []
    },
    {
      "cell_type": "code",
      "source": [
        "outputDelta"
      ],
      "metadata": {
        "colab": {
          "base_uri": "https://localhost:8080/"
        },
        "id": "lToSKjonpz5g",
        "outputId": "377d4ec4-2662-433b-9176-8f2f23156a8a"
      },
      "execution_count": null,
      "outputs": [
        {
          "output_type": "execute_result",
          "data": {
            "text/plain": [
              "array([[-0.00529246],\n",
              "       [-0.00425496],\n",
              "       [ 0.06581277]])"
            ]
          },
          "metadata": {},
          "execution_count": 66
        }
      ]
    },
    {
      "cell_type": "code",
      "source": [
        "hiddenLoss = np.dot(outputDelta, weightsOutput.T)\n",
        "#shape of outputdelta = 3,1\n",
        "#shape of weightsoutput = 4,1\n",
        "#so we will transpose weightsOutput"
      ],
      "metadata": {
        "id": "Q9iae0utp1Yy"
      },
      "execution_count": null,
      "outputs": []
    },
    {
      "cell_type": "code",
      "source": [
        "hiddenLoss"
      ],
      "metadata": {
        "colab": {
          "base_uri": "https://localhost:8080/"
        },
        "id": "83CY_cpTqTNh",
        "outputId": "6e8b4872-10c5-4fd3-dae4-8cdcae1febb7"
      },
      "execution_count": null,
      "outputs": [
        {
          "output_type": "execute_result",
          "data": {
            "text/plain": [
              "array([[-0.00225555, -0.00511525, -0.00167437, -0.00447332],\n",
              "       [-0.00181338, -0.00411249, -0.00134613, -0.0035964 ],\n",
              "       [ 0.02804818,  0.06360917,  0.02082109,  0.05562671]])"
            ]
          },
          "metadata": {},
          "execution_count": 68
        }
      ]
    },
    {
      "cell_type": "code",
      "source": [
        "hiddenSlope = derivativeSigmoid(z)\n",
        "hiddenDelta = hiddenLoss * hiddenSlope"
      ],
      "metadata": {
        "id": "FOFE2ib-qYEK"
      },
      "execution_count": null,
      "outputs": []
    },
    {
      "cell_type": "code",
      "source": [
        "#first part of back propagation i.e loss is now done"
      ],
      "metadata": {
        "id": "E4huhhezqhFv"
      },
      "execution_count": null,
      "outputs": []
    },
    {
      "cell_type": "code",
      "source": [
        "#now comes weights and bias updation"
      ],
      "metadata": {
        "id": "_RnuOmegqoIW"
      },
      "execution_count": null,
      "outputs": []
    },
    {
      "cell_type": "code",
      "source": [
        "weightsOutput = weightsOutput - z.T.dot(outputDelta) * alpha\n",
        "weightsHidden = weightsHidden - hiddenDelta.T.dot(x) * alpha"
      ],
      "metadata": {
        "id": "SYtAarCcrIkI"
      },
      "execution_count": null,
      "outputs": []
    },
    {
      "cell_type": "code",
      "source": [
        "biasOutput = biasOutput - np.sum(outputDelta) * alpha\n",
        "biasHidden = biasHidden - np.sum(hiddenDelta) * alpha"
      ],
      "metadata": {
        "id": "AR8SNS0H0x01"
      },
      "execution_count": null,
      "outputs": []
    },
    {
      "cell_type": "code",
      "source": [
        "epochs = 100\n",
        "weightsHidden = np.random.uniform(size = (inputNeurons, hiddenNeurons)) # 4 x 4\n",
        "biasHidden = np.random.uniform(size = (1, hiddenNeurons)) # 1 x 4\n",
        "weightsOutput = np.random.uniform(size=(hiddenNeurons, outputNeurons)) # 4 x 1\n",
        "biasOutput = np.random.uniform(size = (1,outputNeurons)) # 1 x 1\n",
        "\n",
        "for i in range(epochs):\n",
        "  #Feed Forward\n",
        "  #Step 1: apply linear equation\n",
        "  fx1 = np.dot(x, weightsHidden) + biasHidden\n",
        "\n",
        "  #Step 2: apply activation for non-linearity\n",
        "  z = sigmoid(fx1)\n",
        "\n",
        "  #Step 3: apply linear equation on output of hidden layer\n",
        "  fx2 = np.dot(z, weightsOutput) + biasOutput\n",
        "\n",
        "  #Step 4: apply activation on output layer\n",
        "  output = sigmoid(fx2)\n",
        "\n",
        "\n",
        "  #Back propagation\n",
        "  outputLoss = output - y\n",
        "  outputSlope = derivativeSigmoid(output)\n",
        "  outputDelta = outputLoss * outputSlope\n",
        "\n",
        "  hiddenLoss = np.dot(outputDelta, weightsOutput.T)\n",
        "  hiddenSlope = derivativeSigmoid(z)\n",
        "  hiddenDelta = hiddenLoss * hiddenSlope\n",
        "\n",
        "  #weights and bias optimization\n",
        "  weightsOutput = weightsOutput - z.T.dot(outputDelta) * alpha\n",
        "  weightsHidden = weightsHidden - hiddenDelta.T.dot(x) * alpha\n",
        "  biasOutput = biasOutput - np.sum(outputDelta) * alpha\n",
        "  biasHidden = biasHidden - np.sum(hiddenDelta) * alpha"
      ],
      "metadata": {
        "id": "gL49fINz1HSK"
      },
      "execution_count": null,
      "outputs": []
    },
    {
      "cell_type": "code",
      "source": [
        "output"
      ],
      "metadata": {
        "colab": {
          "base_uri": "https://localhost:8080/"
        },
        "id": "7npfoEsM3TIw",
        "outputId": "db2fdc3f-21f7-4773-f49d-ba2cb3377e05"
      },
      "execution_count": null,
      "outputs": [
        {
          "output_type": "execute_result",
          "data": {
            "text/plain": [
              "array([[0.82152398],\n",
              "       [0.82561331],\n",
              "       [0.7980992 ]])"
            ]
          },
          "metadata": {},
          "execution_count": 75
        }
      ]
    },
    {
      "cell_type": "code",
      "source": [
        "outputLoss"
      ],
      "metadata": {
        "colab": {
          "base_uri": "https://localhost:8080/"
        },
        "id": "psN5Jfrj3Vn6",
        "outputId": "49718ee5-d0df-4dc1-d5d2-b87282f59f71"
      },
      "execution_count": null,
      "outputs": [
        {
          "output_type": "execute_result",
          "data": {
            "text/plain": [
              "array([[-0.17847602],\n",
              "       [-0.17438669],\n",
              "       [ 0.7980992 ]])"
            ]
          },
          "metadata": {},
          "execution_count": 76
        }
      ]
    },
    {
      "cell_type": "code",
      "source": [],
      "metadata": {
        "id": "m0_oEc8A39GH"
      },
      "execution_count": null,
      "outputs": []
    }
  ]
}